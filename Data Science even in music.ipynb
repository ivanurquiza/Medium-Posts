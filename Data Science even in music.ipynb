{
 "cells": [
  {
   "cell_type": "code",
   "execution_count": 1,
   "id": "16953927",
   "metadata": {},
   "outputs": [],
   "source": [
    "#!conda install -c conda-forge spotipy"
   ]
  },
  {
   "cell_type": "code",
   "execution_count": 2,
   "id": "1b160b4e",
   "metadata": {},
   "outputs": [],
   "source": [
    "import pandas as pd"
   ]
  },
  {
   "cell_type": "code",
   "execution_count": 3,
   "id": "76f3d01d",
   "metadata": {},
   "outputs": [],
   "source": [
    "# FILL IN THESE VALUES WITH YOUR OWN KEYS\n",
    "client_id = \"dd63cfab52f6408fb0f8b273e9b1c166\"\n",
    "client_secret = \"117523fc551d4521adcc2bad24a24c3d\"\n",
    "\n",
    "# Make sure to add this on \"Edit Settings\" in your Dashboard\n",
    "redirect_uri = \"http://localhost:9000\""
   ]
  },
  {
   "cell_type": "code",
   "execution_count": 4,
   "id": "2fd39417",
   "metadata": {},
   "outputs": [],
   "source": [
    "import spotipy\n",
    "from spotipy.oauth2 import SpotifyOAuth\n",
    "\n",
    "# Connect with API Keys created earlier\n",
    "#scope = \"user-read-recently-played\"\n",
    "sp = spotipy.Spotify(auth_manager=SpotifyOAuth(client_id=client_id,\n",
    "                                              client_secret=client_secret,\n",
    "                                              redirect_uri=redirect_uri))\n"
   ]
  },
  {
   "cell_type": "code",
   "execution_count": 5,
   "id": "84ba034c",
   "metadata": {},
   "outputs": [],
   "source": [
    "#--------------------------------------------------------"
   ]
  },
  {
   "cell_type": "code",
   "execution_count": 6,
   "id": "a7abe9d3",
   "metadata": {},
   "outputs": [],
   "source": [
    "TOP50_playlist = sp.playlist('37i9dQZEVXbMMy2roB9myp')"
   ]
  },
  {
   "cell_type": "code",
   "execution_count": 7,
   "id": "912cb86b",
   "metadata": {},
   "outputs": [
    {
     "data": {
      "text/plain": [
       "[('Shakira: Bzrp Music Sessions, Vol. 53', '4nrPB8O7Y7wsOCJdgXkthe', 98),\n",
       " ('Ya No Vuelvas (Versión Cuarteto)', '6jRZ33ifS5VOTMwmPxhPhN', 82),\n",
       " ('Muñecas', '1PAvhqefivTNdxZ4u8RT1d', 79),\n",
       " ('PUNTO G', '4WiQA1AGWHFvaxBU6bHghs', 36),\n",
       " ('Marisola - Remix', '0NO2zL0kw8sGGnaMvHKAZF', 89)]"
      ]
     },
     "execution_count": 7,
     "metadata": {},
     "output_type": "execute_result"
    }
   ],
   "source": [
    "list_tracksids = list()\n",
    "\n",
    "for track_data in TOP50_playlist['tracks']['items']:\n",
    "    \n",
    "    #Gets just the ID (last part of the url)\n",
    "    track_id = track_data['track']['uri'].split(':')[-1]\n",
    "    track_name = track_data['track']['name']\n",
    "    track_popularity = track_data['track']['popularity']\n",
    "    list_tracksids.append((track_name,track_id,track_popularity))\n",
    "    \n",
    "list_tracksids[:5] #Sample"
   ]
  },
  {
   "cell_type": "code",
   "execution_count": 8,
   "id": "85c24a4d",
   "metadata": {},
   "outputs": [
    {
     "data": {
      "text/html": [
       "<div>\n",
       "<style scoped>\n",
       "    .dataframe tbody tr th:only-of-type {\n",
       "        vertical-align: middle;\n",
       "    }\n",
       "\n",
       "    .dataframe tbody tr th {\n",
       "        vertical-align: top;\n",
       "    }\n",
       "\n",
       "    .dataframe thead th {\n",
       "        text-align: right;\n",
       "    }\n",
       "</style>\n",
       "<table border=\"1\" class=\"dataframe\">\n",
       "  <thead>\n",
       "    <tr style=\"text-align: right;\">\n",
       "      <th></th>\n",
       "      <th>track_name</th>\n",
       "      <th>popularity</th>\n",
       "      <th>danceability</th>\n",
       "      <th>energy</th>\n",
       "      <th>loudness</th>\n",
       "      <th>speechiness</th>\n",
       "      <th>acousticness</th>\n",
       "      <th>instrumentalness</th>\n",
       "      <th>liveness</th>\n",
       "      <th>tempo</th>\n",
       "    </tr>\n",
       "  </thead>\n",
       "  <tbody>\n",
       "    <tr>\n",
       "      <th>0</th>\n",
       "      <td>Shakira: Bzrp Music Sessions, Vol. 53</td>\n",
       "      <td>98</td>\n",
       "      <td>0.778</td>\n",
       "      <td>0.632</td>\n",
       "      <td>-5.6</td>\n",
       "      <td>0.0493</td>\n",
       "      <td>0.274</td>\n",
       "      <td>0</td>\n",
       "      <td>0.0915</td>\n",
       "      <td>122.104</td>\n",
       "    </tr>\n",
       "    <tr>\n",
       "      <th>0</th>\n",
       "      <td>Ya No Vuelvas (Versión Cuarteto)</td>\n",
       "      <td>82</td>\n",
       "      <td>0.736</td>\n",
       "      <td>0.9</td>\n",
       "      <td>-4.575</td>\n",
       "      <td>0.0825</td>\n",
       "      <td>0.224</td>\n",
       "      <td>0</td>\n",
       "      <td>0.375</td>\n",
       "      <td>149.947</td>\n",
       "    </tr>\n",
       "    <tr>\n",
       "      <th>0</th>\n",
       "      <td>Muñecas</td>\n",
       "      <td>79</td>\n",
       "      <td>0.681</td>\n",
       "      <td>0.711</td>\n",
       "      <td>-4.79</td>\n",
       "      <td>0.0846</td>\n",
       "      <td>0.0278</td>\n",
       "      <td>0</td>\n",
       "      <td>0.312</td>\n",
       "      <td>89.89</td>\n",
       "    </tr>\n",
       "    <tr>\n",
       "      <th>0</th>\n",
       "      <td>PUNTO G</td>\n",
       "      <td>36</td>\n",
       "      <td>0.751</td>\n",
       "      <td>0.761</td>\n",
       "      <td>-4.113</td>\n",
       "      <td>0.15</td>\n",
       "      <td>0.251</td>\n",
       "      <td>0.000238</td>\n",
       "      <td>0.0991</td>\n",
       "      <td>92.032</td>\n",
       "    </tr>\n",
       "    <tr>\n",
       "      <th>0</th>\n",
       "      <td>Marisola - Remix</td>\n",
       "      <td>89</td>\n",
       "      <td>0.765</td>\n",
       "      <td>0.872</td>\n",
       "      <td>-5.863</td>\n",
       "      <td>0.0498</td>\n",
       "      <td>0.173</td>\n",
       "      <td>0.000006</td>\n",
       "      <td>0.0749</td>\n",
       "      <td>94.999</td>\n",
       "    </tr>\n",
       "  </tbody>\n",
       "</table>\n",
       "</div>"
      ],
      "text/plain": [
       "                              track_name popularity danceability energy  \\\n",
       "0  Shakira: Bzrp Music Sessions, Vol. 53         98        0.778  0.632   \n",
       "0       Ya No Vuelvas (Versión Cuarteto)         82        0.736    0.9   \n",
       "0                                Muñecas         79        0.681  0.711   \n",
       "0                                PUNTO G         36        0.751  0.761   \n",
       "0                       Marisola - Remix         89        0.765  0.872   \n",
       "\n",
       "  loudness speechiness acousticness instrumentalness liveness    tempo  \n",
       "0     -5.6      0.0493        0.274                0   0.0915  122.104  \n",
       "0   -4.575      0.0825        0.224                0    0.375  149.947  \n",
       "0    -4.79      0.0846       0.0278                0    0.312    89.89  \n",
       "0   -4.113        0.15        0.251         0.000238   0.0991   92.032  \n",
       "0   -5.863      0.0498        0.173         0.000006   0.0749   94.999  "
      ]
     },
     "execution_count": 8,
     "metadata": {},
     "output_type": "execute_result"
    }
   ],
   "source": [
    "df_features = pd.DataFrame()\n",
    "\n",
    "for idx, dict_trackfeatures in enumerate(sp.audio_features(tracks=[url[1] for url in list_tracksids])):\n",
    "    dict_trackfeatures['track_name'] = list_tracksids[idx][0]\n",
    "    dict_trackfeatures['popularity'] = list_tracksids[idx][2]\n",
    "    df_features = pd.concat([df_features,pd.Series(dict_trackfeatures)], axis=1)\n",
    "\n",
    "                      #Selects only useful features\n",
    "df_features=df_features.transpose()[['track_name','popularity','danceability','energy','loudness','speechiness','acousticness','instrumentalness','liveness','tempo']]\n",
    "\n",
    "#Display Top 5 songs\n",
    "df_features.head()"
   ]
  },
  {
   "cell_type": "code",
   "execution_count": 9,
   "id": "640d8636",
   "metadata": {},
   "outputs": [],
   "source": [
    "#Handles data types\n",
    "df_features[['danceability','energy','loudness','speechiness','acousticness','instrumentalness','liveness','tempo']]=df_features[['danceability','energy','loudness','speechiness','acousticness','instrumentalness','liveness','tempo']].astype(float)"
   ]
  },
  {
   "cell_type": "code",
   "execution_count": 10,
   "id": "c96ec856",
   "metadata": {},
   "outputs": [
    {
     "data": {
      "text/html": [
       "<div>\n",
       "<style scoped>\n",
       "    .dataframe tbody tr th:only-of-type {\n",
       "        vertical-align: middle;\n",
       "    }\n",
       "\n",
       "    .dataframe tbody tr th {\n",
       "        vertical-align: top;\n",
       "    }\n",
       "\n",
       "    .dataframe thead th {\n",
       "        text-align: right;\n",
       "    }\n",
       "</style>\n",
       "<table border=\"1\" class=\"dataframe\">\n",
       "  <thead>\n",
       "    <tr style=\"text-align: right;\">\n",
       "      <th></th>\n",
       "      <th>danceability</th>\n",
       "      <th>energy</th>\n",
       "      <th>loudness</th>\n",
       "      <th>speechiness</th>\n",
       "      <th>acousticness</th>\n",
       "      <th>instrumentalness</th>\n",
       "      <th>liveness</th>\n",
       "      <th>tempo</th>\n",
       "    </tr>\n",
       "  </thead>\n",
       "  <tbody>\n",
       "    <tr>\n",
       "      <th>count</th>\n",
       "      <td>50.00000</td>\n",
       "      <td>50.00000</td>\n",
       "      <td>50.000000</td>\n",
       "      <td>50.000000</td>\n",
       "      <td>50.000000</td>\n",
       "      <td>50.000000</td>\n",
       "      <td>50.000000</td>\n",
       "      <td>50.000000</td>\n",
       "    </tr>\n",
       "    <tr>\n",
       "      <th>mean</th>\n",
       "      <td>0.73872</td>\n",
       "      <td>0.65282</td>\n",
       "      <td>-5.731340</td>\n",
       "      <td>0.113634</td>\n",
       "      <td>0.228524</td>\n",
       "      <td>0.016505</td>\n",
       "      <td>0.173576</td>\n",
       "      <td>113.771660</td>\n",
       "    </tr>\n",
       "    <tr>\n",
       "      <th>std</th>\n",
       "      <td>0.12999</td>\n",
       "      <td>0.13205</td>\n",
       "      <td>2.033121</td>\n",
       "      <td>0.079722</td>\n",
       "      <td>0.196076</td>\n",
       "      <td>0.095939</td>\n",
       "      <td>0.136989</td>\n",
       "      <td>28.958046</td>\n",
       "    </tr>\n",
       "    <tr>\n",
       "      <th>min</th>\n",
       "      <td>0.40600</td>\n",
       "      <td>0.23400</td>\n",
       "      <td>-14.520000</td>\n",
       "      <td>0.036400</td>\n",
       "      <td>0.003020</td>\n",
       "      <td>0.000000</td>\n",
       "      <td>0.032200</td>\n",
       "      <td>79.928000</td>\n",
       "    </tr>\n",
       "    <tr>\n",
       "      <th>25%</th>\n",
       "      <td>0.64950</td>\n",
       "      <td>0.56825</td>\n",
       "      <td>-6.509000</td>\n",
       "      <td>0.051075</td>\n",
       "      <td>0.080550</td>\n",
       "      <td>0.000000</td>\n",
       "      <td>0.083025</td>\n",
       "      <td>92.025250</td>\n",
       "    </tr>\n",
       "    <tr>\n",
       "      <th>50%</th>\n",
       "      <td>0.74850</td>\n",
       "      <td>0.68000</td>\n",
       "      <td>-5.574000</td>\n",
       "      <td>0.079700</td>\n",
       "      <td>0.170500</td>\n",
       "      <td>0.000000</td>\n",
       "      <td>0.111500</td>\n",
       "      <td>98.013000</td>\n",
       "    </tr>\n",
       "    <tr>\n",
       "      <th>75%</th>\n",
       "      <td>0.86250</td>\n",
       "      <td>0.73050</td>\n",
       "      <td>-4.387500</td>\n",
       "      <td>0.165750</td>\n",
       "      <td>0.292000</td>\n",
       "      <td>0.000014</td>\n",
       "      <td>0.237250</td>\n",
       "      <td>131.482250</td>\n",
       "    </tr>\n",
       "    <tr>\n",
       "      <th>max</th>\n",
       "      <td>0.93300</td>\n",
       "      <td>0.90000</td>\n",
       "      <td>-2.248000</td>\n",
       "      <td>0.317000</td>\n",
       "      <td>0.803000</td>\n",
       "      <td>0.670000</td>\n",
       "      <td>0.721000</td>\n",
       "      <td>179.946000</td>\n",
       "    </tr>\n",
       "  </tbody>\n",
       "</table>\n",
       "</div>"
      ],
      "text/plain": [
       "       danceability    energy   loudness  speechiness  acousticness  \\\n",
       "count      50.00000  50.00000  50.000000    50.000000     50.000000   \n",
       "mean        0.73872   0.65282  -5.731340     0.113634      0.228524   \n",
       "std         0.12999   0.13205   2.033121     0.079722      0.196076   \n",
       "min         0.40600   0.23400 -14.520000     0.036400      0.003020   \n",
       "25%         0.64950   0.56825  -6.509000     0.051075      0.080550   \n",
       "50%         0.74850   0.68000  -5.574000     0.079700      0.170500   \n",
       "75%         0.86250   0.73050  -4.387500     0.165750      0.292000   \n",
       "max         0.93300   0.90000  -2.248000     0.317000      0.803000   \n",
       "\n",
       "       instrumentalness   liveness       tempo  \n",
       "count         50.000000  50.000000   50.000000  \n",
       "mean           0.016505   0.173576  113.771660  \n",
       "std            0.095939   0.136989   28.958046  \n",
       "min            0.000000   0.032200   79.928000  \n",
       "25%            0.000000   0.083025   92.025250  \n",
       "50%            0.000000   0.111500   98.013000  \n",
       "75%            0.000014   0.237250  131.482250  \n",
       "max            0.670000   0.721000  179.946000  "
      ]
     },
     "execution_count": 10,
     "metadata": {},
     "output_type": "execute_result"
    }
   ],
   "source": [
    "#Some stats of our data\n",
    "\n",
    "df_features.loc[:, df_features.columns != 'track_name'].describe()"
   ]
  },
  {
   "cell_type": "markdown",
   "id": "a50f2e44",
   "metadata": {},
   "source": [
    "### We're ready. Let's analyze the data!\n",
    "\n",
    "Let's plot some histograms for getting the first patterns about the most popular music.\n",
    "\n",
    "From the graph on the left, we can see that the music that makes up our TOP 50 playlist is mostly located in the second half (over 0.5 of 1), which appaerently means that it seems to be very danceable. How can we know if this suspicion is true?\n",
    "\n",
    "Let's compare the average danceability of these songs with classical music. **Hello Mozart!**"
   ]
  },
  {
   "cell_type": "code",
   "execution_count": 11,
   "id": "030b05d6",
   "metadata": {},
   "outputs": [
    {
     "name": "stderr",
     "output_type": "stream",
     "text": [
      "C:\\Users\\ivanr\\anaconda3\\lib\\site-packages\\seaborn\\distributions.py:2619: FutureWarning: `distplot` is a deprecated function and will be removed in a future version. Please adapt your code to use either `displot` (a figure-level function with similar flexibility) or `histplot` (an axes-level function for histograms).\n",
      "  warnings.warn(msg, FutureWarning)\n"
     ]
    },
    {
     "data": {
      "image/png": "[encoded data removed]",
      "text/plain": [
       "<Figure size 800x400 with 2 Axes>"
      ]
     },
     "metadata": {},
     "output_type": "display_data"
    }
   ],
   "source": [
    "import seaborn as sns\n",
    "import matplotlib.pyplot as plt\n",
    "\n",
    "# Let's plot some histograms for getting the first patterns about the most popular music\n",
    "\n",
    "sns.set_theme(context='notebook',style=\"ticks\")\n",
    "fig, axes = plt.subplots(1, 2, figsize=(8,4))\n",
    "\n",
    "# Left - Danceability's histogram\n",
    "sns.distplot(ax=axes[0], x=df_features[\"danceability\"], bins=6,kde=True, color=\"#5B3BA0\")\n",
    "axes[0].set_title('TOP 50 Danceability freq.')\n",
    "\n",
    "# Right - Comparation between the playlist avarage and Mozart's most popular song\n",
    "\n",
    "                                              # Requiem, K. 626: Lacrimosa\n",
    "mozart_danceability = sp.audio_features(tracks=['3oHSL6pt9LpNrQZuQGu9wL'])[0]['danceability']\n",
    "\n",
    "avg_top50_danceability = df_features['danceability'].mean()\n",
    "\n",
    "sns.barplot(ax= axes[1],\n",
    "            x = 'who',\n",
    "            y = 'Danceability',\n",
    "            data = {'who':['TOP 50','MOZART'],'Danceability':[avg_top50_danceability, mozart_danceability]},\n",
    "            palette=['#5B3BA0','#A378FF']\n",
    "            )\n",
    " \n",
    "axes[1].set_title('Mozart vs TOP 50')\n",
    "\n",
    "plt.show()\n"
   ]
  },
  {
   "cell_type": "markdown",
   "id": "18129598",
   "metadata": {},
   "source": [
    "#### Amazing results!\n",
    "As we can imagine, Mozart is not in the Top 50 most played songs. Based on our brief analysis, Mozart might not have enough danceability to be part of the playlist.\n",
    "\n",
    "- Mozart's danceability: 0.162\n",
    "- TOP 50 danceability avarage: 0.739\n",
    "\n",
    "The difference is huge. However, it could just be a fluke! Let's look at the rest of the variables that make up modern music, from the TOP 50, and compare them with our Austrian friend."
   ]
  },
  {
   "cell_type": "code",
   "execution_count": 12,
   "id": "594dd6f8",
   "metadata": {},
   "outputs": [
    {
     "data": {
      "text/plain": [
       "['track_name',\n",
       " 'popularity',\n",
       " 'danceability',\n",
       " 'energy',\n",
       " 'loudness',\n",
       " 'speechiness',\n",
       " 'acousticness',\n",
       " 'instrumentalness',\n",
       " 'liveness',\n",
       " 'tempo']"
      ]
     },
     "execution_count": 12,
     "metadata": {},
     "output_type": "execute_result"
    }
   ],
   "source": [
    "list(df_features.keys())"
   ]
  },
  {
   "cell_type": "code",
   "execution_count": 13,
   "id": "31fe4276",
   "metadata": {},
   "outputs": [
    {
     "data": {
      "text/html": [
       "<div>\n",
       "<style scoped>\n",
       "    .dataframe tbody tr th:only-of-type {\n",
       "        vertical-align: middle;\n",
       "    }\n",
       "\n",
       "    .dataframe tbody tr th {\n",
       "        vertical-align: top;\n",
       "    }\n",
       "\n",
       "    .dataframe thead th {\n",
       "        text-align: right;\n",
       "    }\n",
       "</style>\n",
       "<table border=\"1\" class=\"dataframe\">\n",
       "  <thead>\n",
       "    <tr style=\"text-align: right;\">\n",
       "      <th></th>\n",
       "      <th>track_name</th>\n",
       "      <th>popularity</th>\n",
       "      <th>danceability</th>\n",
       "      <th>energy</th>\n",
       "      <th>loudness</th>\n",
       "      <th>speechiness</th>\n",
       "      <th>acousticness</th>\n",
       "      <th>instrumentalness</th>\n",
       "      <th>liveness</th>\n",
       "      <th>tempo</th>\n",
       "      <th>playlist</th>\n",
       "    </tr>\n",
       "  </thead>\n",
       "  <tbody>\n",
       "    <tr>\n",
       "      <th>0</th>\n",
       "      <td>Mozart</td>\n",
       "      <td>0.0</td>\n",
       "      <td>0.162</td>\n",
       "      <td>0.0898</td>\n",
       "      <td>-23.269</td>\n",
       "      <td>0.0354</td>\n",
       "      <td>0.944</td>\n",
       "      <td>0.917</td>\n",
       "      <td>0.187</td>\n",
       "      <td>132.047</td>\n",
       "      <td>Mozart</td>\n",
       "    </tr>\n",
       "  </tbody>\n",
       "</table>\n",
       "</div>"
      ],
      "text/plain": [
       "  track_name popularity  danceability  energy  loudness  speechiness  \\\n",
       "0     Mozart        0.0         0.162  0.0898   -23.269       0.0354   \n",
       "\n",
       "   acousticness  instrumentalness  liveness    tempo playlist  \n",
       "0         0.944             0.917     0.187  132.047   Mozart  "
      ]
     },
     "execution_count": 13,
     "metadata": {},
     "output_type": "execute_result"
    }
   ],
   "source": [
    "#Adds Mozart's song variables to our dataframe\n",
    "mozart = pd.DataFrame({'track_name':['Mozart'], 'popularity':[0.0]})\n",
    "for k,v in sp.audio_features(tracks=['3oHSL6pt9LpNrQZuQGu9wL'])[0].items():\n",
    "    if k in df_features.keys():\n",
    "        mozart[k]=v\n",
    "\n",
    "df_features = pd.concat([df_features,mozart], axis=0)\n",
    "df_features['playlist'] = ['TOP 50' if x != 'Mozart' else 'Mozart' for x in df_features['track_name']] \n",
    "                           \n",
    "df_features.tail(1)"
   ]
  },
  {
   "cell_type": "code",
   "execution_count": 14,
   "id": "a257ae32",
   "metadata": {},
   "outputs": [
    {
     "data": {
      "image/png": "[encoded data removed]",
      "text/plain": [
       "<Figure size 512x384 with 1 Axes>"
      ]
     },
     "metadata": {},
     "output_type": "display_data"
    }
   ],
   "source": [
    "plt.figure(dpi=80)\n",
    "\n",
    "sns.scatterplot(\n",
    "    data=df_features, x='acousticness',y='loudness', hue=\"playlist\",\n",
    "    sizes=(20, 200), legend=\"full\", palette=['#5B3BA0','#D00000']\n",
    ")\n",
    "\n",
    "plt.show()"
   ]
  },
  {
   "cell_type": "markdown",
   "id": "51b50b22",
   "metadata": {},
   "source": [
    "### FYI: Mozart is no longer in trendy.\n",
    "This chart partly helps to understand why Mozart is not trendy. The songs in the Top 50 have similar values of the variables \"loudness\" and \"acousticness\" and are highly concentrated in the upper left part of the graph. The trend is clear: high loudness and low acousticness levels.\n",
    "On the other hand, Mozart goes against the trend!"
   ]
  },
  {
   "cell_type": "markdown",
   "id": "bfdc0cb7",
   "metadata": {},
   "source": [
    "### Same steps, another playlist\n",
    "What if, instead of Mozart and trendy songs, we take a playlist with the best songs of the 80s?\n",
    "\n",
    "*Let's do the same, but slightly different.*"
   ]
  },
  {
   "cell_type": "code",
   "execution_count": 15,
   "id": "9269458f",
   "metadata": {},
   "outputs": [],
   "source": [
    "AllOut80s = sp.playlist('37i9dQZF1DX4UtSsGT1Sbe')\n",
    "list_tracksids = list()\n",
    "\n",
    "for track_data in AllOut80s['tracks']['items']:\n",
    "    \n",
    "    #Gets just the ID (last part of the url)\n",
    "    track_id = track_data['track']['uri'].split(':')[-1]\n",
    "    track_name = track_data['track']['name']\n",
    "    track_popularity = track_data['track']['popularity']\n",
    "    list_tracksids.append((track_name,track_id,track_popularity))\n",
    "\n",
    "AllOut80s_features = pd.DataFrame()\n",
    "\n",
    "for idx, dict_trackfeatures in enumerate(sp.audio_features(tracks=[url[1] for url in list_tracksids])):\n",
    "    dict_trackfeatures['track_name'] = list_tracksids[idx][0]\n",
    "    dict_trackfeatures['popularity'] = list_tracksids[idx][2]\n",
    "    AllOut80s_features = pd.concat([AllOut80s_features,pd.Series(dict_trackfeatures)], axis=1)\n",
    "\n",
    "\n",
    "\n",
    "                           #Selects only useful features\n",
    "AllOut80s_features=AllOut80s_features.transpose()[['track_name','popularity','danceability','energy','loudness','speechiness','acousticness','instrumentalness','liveness','tempo']]\n",
    "AllOut80s_features['playlist'] = 'AllOut80s'"
   ]
  },
  {
   "cell_type": "code",
   "execution_count": 16,
   "id": "919672f9",
   "metadata": {},
   "outputs": [],
   "source": [
    "#Handles data types\n",
    "AllOut80s_features[['danceability','energy','loudness','speechiness','acousticness','instrumentalness','liveness','tempo']]=AllOut80s_features[['danceability','energy','loudness','speechiness','acousticness','instrumentalness','liveness','tempo']].astype(float)"
   ]
  },
  {
   "cell_type": "markdown",
   "id": "fe946971",
   "metadata": {},
   "source": [
    "### 80s vs Trendy Top 50"
   ]
  },
  {
   "cell_type": "code",
   "execution_count": 17,
   "id": "3821338d",
   "metadata": {},
   "outputs": [
    {
     "data": {
      "text/plain": [
       "<Figure size 512x384 with 0 Axes>"
      ]
     },
     "metadata": {},
     "output_type": "display_data"
    },
    {
     "data": {
      "image/png": "[encoded data removed]",
      "text/plain": [
       "<Figure size 621.625x500 with 1 Axes>"
      ]
     },
     "metadata": {},
     "output_type": "display_data"
    }
   ],
   "source": [
    "# Setting up concatenated df\n",
    "df_allsongs = pd.concat([df_features, AllOut80s_features[:50]]).reset_index()\n",
    "\n",
    "df_allsongs= df_allsongs.drop(df_allsongs.index[df_allsongs['playlist'] == 'Mozart'])\n",
    "\n",
    "plt.figure(dpi=80)\n",
    "\n",
    "\n",
    "sns.lmplot(\n",
    "    data=df_allsongs, x='acousticness',y='loudness', hue=\"playlist\",\n",
    "    legend=\"full\", palette=['#5B3BA0','#D00000']\n",
    ")\n",
    "\n",
    "plt.show()"
   ]
  },
  {
   "cell_type": "markdown",
   "id": "036b7a7d",
   "metadata": {},
   "source": [
    "### Loudness / Acousticness\n",
    "Looking at the distributions and regression lines for each playlist, we notice that the trends are quite different. Although the relationship between variables (slope of the curves) remains similar, the songs seem to be positioned in a pattern, with the Top 50 playlist having a higher level of \"loudness\".\n",
    "\n",
    "With these two variables alone we can see that the music of the 80s is more similar to current trends than Mozart.\n",
    "\n",
    "## Let's take the project a step further!\n",
    "**Can we predict, considering all possible variables, to which playlist a song belongs?**\n",
    "*Not sure, but the answer is probably **KNeighbors**.*\n",
    "\n",
    "I googled the most representative song for the 80s to use it as input of our modeling prediction:\n",
    "\n",
    "\t\t\t\t\t\t\t\t\t\t\n",
    "                                        **‘Purple Rain’ by Prince**\n",
    "                                        \n",
    "\n",
    "Here's the spotify link: https://open.spotify.com/track/54X78diSLoUDI3joC2bjMz?si=ff961120b260427c"
   ]
  },
  {
   "cell_type": "code",
   "execution_count": 29,
   "id": "b847bdf7",
   "metadata": {},
   "outputs": [
    {
     "data": {
      "text/html": [
       "<div>\n",
       "<style scoped>\n",
       "    .dataframe tbody tr th:only-of-type {\n",
       "        vertical-align: middle;\n",
       "    }\n",
       "\n",
       "    .dataframe tbody tr th {\n",
       "        vertical-align: top;\n",
       "    }\n",
       "\n",
       "    .dataframe thead th {\n",
       "        text-align: right;\n",
       "    }\n",
       "</style>\n",
       "<table border=\"1\" class=\"dataframe\">\n",
       "  <thead>\n",
       "    <tr style=\"text-align: right;\">\n",
       "      <th></th>\n",
       "      <th>danceability</th>\n",
       "      <th>energy</th>\n",
       "      <th>loudness</th>\n",
       "      <th>speechiness</th>\n",
       "      <th>acousticness</th>\n",
       "      <th>instrumentalness</th>\n",
       "      <th>liveness</th>\n",
       "      <th>tempo</th>\n",
       "    </tr>\n",
       "  </thead>\n",
       "  <tbody>\n",
       "    <tr>\n",
       "      <th>1</th>\n",
       "      <td>0.367</td>\n",
       "      <td>0.452</td>\n",
       "      <td>-10.422</td>\n",
       "      <td>0.0307</td>\n",
       "      <td>0.0353</td>\n",
       "      <td>0.00228</td>\n",
       "      <td>0.689</td>\n",
       "      <td>113.066</td>\n",
       "    </tr>\n",
       "  </tbody>\n",
       "</table>\n",
       "</div>"
      ],
      "text/plain": [
       "0  danceability  energy  loudness  speechiness  acousticness  \\\n",
       "1         0.367   0.452   -10.422       0.0307        0.0353   \n",
       "\n",
       "0  instrumentalness  liveness    tempo  \n",
       "1           0.00228     0.689  113.066  "
      ]
     },
     "execution_count": 29,
     "metadata": {},
     "output_type": "execute_result"
    }
   ],
   "source": [
    "#Features used for modeling\n",
    "featlist=['danceability','energy','loudness','speechiness','acousticness','instrumentalness','liveness','tempo']\n",
    "\n",
    "prince = {}\n",
    "for k,v in sp.audio_features(tracks=['54X78diSLoUDI3joC2bjMz'])[0].items():\n",
    "    if k in featlist:\n",
    "        prince[k]=v\n",
    "\n",
    "prince = pd.DataFrame(prince.items()).transpose()\n",
    "prince.columns = prince.iloc[0]\n",
    "prince=prince[1:]\n",
    "prince[featlist] = prince[featlist].astype(float)\n",
    "prince\n"
   ]
  },
  {
   "cell_type": "code",
   "execution_count": 27,
   "id": "169053b0",
   "metadata": {},
   "outputs": [
    {
     "data": {
      "text/plain": [
       "KNeighborsClassifier(n_neighbors=3)"
      ]
     },
     "execution_count": 27,
     "metadata": {},
     "output_type": "execute_result"
    }
   ],
   "source": [
    "from sklearn.neighbors import KNeighborsClassifier\n",
    "\n",
    "knn = KNeighborsClassifier(n_neighbors=3)\n",
    "\n",
    "X = df_allsongs[featlist]\n",
    "\n",
    "y = df_allsongs['playlist']\n",
    "\n",
    "knn.fit(X,y)"
   ]
  },
  {
   "cell_type": "code",
   "execution_count": 35,
   "id": "1d10bbd5",
   "metadata": {},
   "outputs": [
    {
     "name": "stdout",
     "output_type": "stream",
     "text": [
      "The song could be included in the playlist:  AllOut80s\n"
     ]
    },
    {
     "name": "stderr",
     "output_type": "stream",
     "text": [
      "C:\\Users\\ivanr\\anaconda3\\lib\\site-packages\\sklearn\\neighbors\\_classification.py:228: FutureWarning: Unlike other reduction functions (e.g. `skew`, `kurtosis`), the default behavior of `mode` typically preserves the axis it acts along. In SciPy 1.11.0, this behavior will change: the default value of `keepdims` will become False, the `axis` over which the statistic is taken will be eliminated, and the value None will no longer be accepted. Set `keepdims` to True or False to avoid this warning.\n",
      "  mode, _ = stats.mode(_y[neigh_ind, k], axis=1)\n"
     ]
    }
   ],
   "source": [
    "# Truth time! The prediction is...\n",
    "\n",
    "prediction = knn.predict(prince)\n",
    "print('The song could be included in the playlist: ', prediction[0])"
   ]
  },
  {
   "cell_type": "markdown",
   "id": "3c48ba41",
   "metadata": {},
   "source": [
    "### Thanks for reading!"
   ]
  },
  {
   "cell_type": "code",
   "execution_count": null,
   "id": "678f5222",
   "metadata": {},
   "outputs": [],
   "source": []
  }
 ],
 "metadata": {
  "kernelspec": {
   "display_name": "Python 3 (ipykernel)",
   "language": "python",
   "name": "python3"
  },
  "language_info": {
   "codemirror_mode": {
    "name": "ipython",
    "version": 3
   },
   "file_extension": ".py",
   "mimetype": "text/x-python",
   "name": "python",
   "nbconvert_exporter": "python",
   "pygments_lexer": "ipython3",
   "version": "3.9.13"
  }
 },
 "nbformat": 4,
 "nbformat_minor": 5
}
